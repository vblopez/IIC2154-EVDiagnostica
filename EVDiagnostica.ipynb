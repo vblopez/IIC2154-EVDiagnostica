{
 "cells": [
  {
   "cell_type": "markdown",
   "id": "8c961153",
   "metadata": {},
   "source": [
    "## Evaluación diagnostica gitflow"
   ]
  },
  {
   "cell_type": "markdown",
   "id": "a575ad9a",
   "metadata": {},
   "source": [
    "Programar en Python cuatro funciones:\n",
    "\n",
    "1. Los top 10 tweets más retweeted.\n",
    "2. Los top 10 usuarios en función a la cantidad de tweets que emitieron.\n",
    "3. Los top 10 días donde hay más tweets.\n",
    "4. Top 10 hashtags más usados.\n",
    "Dataset: https://www.kaggle.com/datasets/prathamsharma123/farmers-protest-tweets-dataset-raw-json"
   ]
  },
  {
   "cell_type": "code",
   "execution_count": 1,
   "id": "e6d6109e",
   "metadata": {},
   "outputs": [],
   "source": [
    "# Import\n",
    "import json"
   ]
  },
  {
   "cell_type": "markdown",
   "id": "613f4cdd",
   "metadata": {},
   "source": [
    "### Función top retweeted"
   ]
  },
  {
   "cell_type": "code",
   "execution_count": null,
   "id": "34caf9a8",
   "metadata": {},
   "outputs": [],
   "source": []
  }
 ],
 "metadata": {
  "kernelspec": {
   "display_name": "Python 3 (ipykernel)",
   "language": "python",
   "name": "python3"
  },
  "language_info": {
   "codemirror_mode": {
    "name": "ipython",
    "version": 3
   },
   "file_extension": ".py",
   "mimetype": "text/x-python",
   "name": "python",
   "nbconvert_exporter": "python",
   "pygments_lexer": "ipython3",
   "version": "3.8.10"
  }
 },
 "nbformat": 4,
 "nbformat_minor": 5
}
